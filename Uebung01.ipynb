{
 "cells": [
  {
   "cell_type": "markdown",
   "metadata": {
    "tags": []
   },
   "source": [
    "# GeoProgrammierung 2\n",
    "\n",
    "## Uebung 01"
   ]
  },
  {
   "cell_type": "markdown",
   "metadata": {},
   "source": [
    "### Aufgabe 1: SwissALTI3D"
   ]
  },
  {
   "cell_type": "code",
   "execution_count": 1,
   "metadata": {
    "tags": []
   },
   "outputs": [],
   "source": [
    "import os\n",
    "from urllib.request import urlopen\n",
    "\n",
    "def download(url, destfile, overwrite=True):\n",
    "    print(\"Downloading\", destfile, \"from\", url)\n",
    "\n",
    "    if os.path.exists(destfile) and not overwrite:\n",
    "        print(\"File already exists, not overwriting.\")\n",
    "        return\n",
    "    \n",
    "    response = urlopen(url) \n",
    "    info = response.info()\n",
    "    cl = info[\"Content-Length\"]\n",
    "    \n",
    "    if cl != None:\n",
    "        filesize = int(cl)\n",
    "        currentsize = 0\n",
    "        \n",
    "        with open(destfile, 'wb') as f:\n",
    "            while True:\n",
    "                chunk = response.read(16*1024)\n",
    "                currentsize += len(chunk)\n",
    "                \n",
    "                if not chunk:\n",
    "                    break\n",
    "                f.write(chunk)\n",
    "                percent = int(100*currentsize/filesize)\n",
    "                \n",
    "                bar = \"*\"*(percent)\n",
    "                bar += \"-\"*((100-percent))\n",
    "                print('\\r{}% done \\t[{}]'.format(percent, bar), end='')\n",
    "        print(\"\")\n",
    "        \n",
    "    else:\n",
    "        print(\"Downloading please wait... (filesize unknown)\")\n",
    "        with open(destfile, 'wb') as f:\n",
    "            while True:\n",
    "                chunk = response.read(16*1024)\n",
    "                if not chunk:\n",
    "                    break\n",
    "                f.write(chunk)"
   ]
  },
  {
   "cell_type": "code",
   "execution_count": 2,
   "metadata": {
    "tags": []
   },
   "outputs": [],
   "source": [
    "from zipfile import ZipFile\n",
    "\n",
    "def unzip(source, dest):\n",
    "    with ZipFile(source, 'r') as zz:\n",
    "        #zz.extractall(path=dest) We don't overwrite already extracted files:\n",
    "        for item in zz.infolist():\n",
    "                file_path = os.path.join(dest, item.filename)\n",
    "                if not os.path.exists(file_path):\n",
    "                    zz.extract(item, dest)"
   ]
  },
  {
   "cell_type": "markdown",
   "metadata": {},
   "source": [
    "Diese Utility-Funktionen sind auch in der Datei „download.py“ verfügbar. In Zukunft importieren wir sie einfach mit:\n",
    "\n",
    "    from download import download,unzip"
   ]
  },
  {
   "cell_type": "markdown",
   "metadata": {},
   "source": [
    "### Download\n",
    "\n",
    "Zuerst erstellen wir ein neues Verzeichnis Uebung01, falls es noch nicht existiert."
   ]
  },
  {
   "cell_type": "code",
   "execution_count": 3,
   "metadata": {},
   "outputs": [],
   "source": [
    "if not os.path.exists(\"Uebung01\"):\n",
    "    os.mkdir(\"Uebung01\")"
   ]
  },
  {
   "cell_type": "markdown",
   "metadata": {},
   "source": [
    "Direkte Download-Links sind:\n",
    "\n",
    "SwissALTI3D Links:\n",
    "* https://data.geo.admin.ch/ch.swisstopo.swissalti3d/swissalti3d_2023_2769-1184/swissalti3d_2023_2769-1184_0.5_2056_5728.tif\n",
    "* https://data.geo.admin.ch/ch.swisstopo.swissalti3d/swissalti3d_2023_2769-1183/swissalti3d_2023_2769-1183_0.5_2056_5728.tif\n",
    "* https://data.geo.admin.ch/ch.swisstopo.swissalti3d/swissalti3d_2023_2770-1184/swissalti3d_2023_2770-1184_0.5_2056_5728.tif\n",
    "* https://data.geo.admin.ch/ch.swisstopo.swissalti3d/swissalti3d_2023_2770-1183/swissalti3d_2023_2770-1183_0.5_2056_5728.tif\n",
    "* https://data.geo.admin.ch/ch.swisstopo.swissalti3d/swissalti3d_2023_2771-1184/swissalti3d_2023_2771-1184_0.5_2056_5728.tif\n",
    "* https://data.geo.admin.ch/ch.swisstopo.swissalti3d/swissalti3d_2023_2771-1183/swissalti3d_2023_2771-1183_0.5_2056_5728.tif\n"
   ]
  },
  {
   "cell_type": "code",
   "execution_count": 5,
   "metadata": {},
   "outputs": [
    {
     "name": "stdout",
     "output_type": "stream",
     "text": [
      "Downloading Uebung01/swissalti3d/swissalti3d_2023_2769-1184_0.5_2056_5728.tif from  https://data.geo.admin.ch/ch.swisstopo.swissalti3d/swissalti3d_2023_2769-1184/swissalti3d_2023_2769-1184_0.5_2056_5728.tif\n",
      "100% done \t[****************************************************************************************************]\n",
      "Downloading Uebung01/swissalti3d/swissalti3d_2023_2769-1183_0.5_2056_5728.tif from  https://data.geo.admin.ch/ch.swisstopo.swissalti3d/swissalti3d_2023_2769-1183/swissalti3d_2023_2769-1183_0.5_2056_5728.tif\n",
      "100% done \t[****************************************************************************************************]\n",
      "Downloading Uebung01/swissalti3d/swissalti3d_2023_2770-1184_0.5_2056_5728.tif from  https://data.geo.admin.ch/ch.swisstopo.swissalti3d/swissalti3d_2023_2770-1184/swissalti3d_2023_2770-1184_0.5_2056_5728.tif\n",
      "100% done \t[****************************************************************************************************]\n",
      "Downloading Uebung01/swissalti3d/swissalti3d_2023_2770-1183_0.5_2056_5728.tif from  https://data.geo.admin.ch/ch.swisstopo.swissalti3d/swissalti3d_2023_2770-1183/swissalti3d_2023_2770-1183_0.5_2056_5728.tif\n",
      "100% done \t[****************************************************************************************************]\n",
      "Downloading Uebung01/swissalti3d/swissalti3d_2023_2771-1184_0.5_2056_5728.tif from  https://data.geo.admin.ch/ch.swisstopo.swissalti3d/swissalti3d_2023_2771-1184/swissalti3d_2023_2771-1184_0.5_2056_5728.tif\n",
      "100% done \t[****************************************************************************************************]\n",
      "Downloading Uebung01/swissalti3d/swissalti3d_2023_2771-1183_0.5_2056_5728.tif from  https://data.geo.admin.ch/ch.swisstopo.swissalti3d/swissalti3d_2023_2771-1183/swissalti3d_2023_2771-1183_0.5_2056_5728.tif\n",
      "100% done \t[****************************************************************************************************]\n"
     ]
    }
   ],
   "source": [
    "dest_dir = \"Uebung01/swissalti3d/\"\n",
    "\n",
    "if not os.path.exists(dest_dir):\n",
    "    os.mkdir(dest_dir)\n",
    "\n",
    "base = \" https://data.geo.admin.ch/ch.swisstopo.swissalti3d/swissalti3d_2023_\"\n",
    "\n",
    "urls = [base + \"2769-1184/swissalti3d_2023_2769-1184_0.5_2056_5728.tif\", base + \"2769-1183/swissalti3d_2023_2769-1183_0.5_2056_5728.tif\", base + \"2770-1184/swissalti3d_2023_2770-1184_0.5_2056_5728.tif\", base + \"2770-1183/swissalti3d_2023_2770-1183_0.5_2056_5728.tif\",\n",
    "        base + \"2771-1184/swissalti3d_2023_2771-1184_0.5_2056_5728.tif\", base + \"2771-1183/swissalti3d_2023_2771-1183_0.5_2056_5728.tif\"]\n",
    "\n",
    "for url in urls:\n",
    "    download(url, dest_dir + os.path.basename(url), False)"
   ]
  },
  {
   "cell_type": "code",
   "execution_count": 8,
   "metadata": {
    "tags": []
   },
   "outputs": [
    {
     "name": "stdout",
     "output_type": "stream",
     "text": [
      "Driver: GTiff/GeoTIFF\n",
      "Files: Uebung01/swissalti3d/swissalti3d_2023_2769-1183_0.5_2056_5728.tif\n",
      "Size is 2000, 2000\n",
      "Coordinate System is:\n",
      "PROJCRS[\"CH1903+ / LV95\",\n",
      "    BASEGEOGCRS[\"CH1903+\",\n",
      "        DATUM[\"CH1903+\",\n",
      "            ELLIPSOID[\"Bessel 1841\",6377397.155,299.1528128,\n",
      "                LENGTHUNIT[\"metre\",1]]],\n",
      "        PRIMEM[\"Greenwich\",0,\n",
      "            ANGLEUNIT[\"degree\",0.0174532925199433]],\n",
      "        ID[\"EPSG\",4150]],\n",
      "    CONVERSION[\"Swiss Oblique Mercator 1995\",\n",
      "        METHOD[\"Hotine Oblique Mercator (variant B)\",\n",
      "            ID[\"EPSG\",9815]],\n",
      "        PARAMETER[\"Latitude of projection centre\",46.9524055555556,\n",
      "            ANGLEUNIT[\"degree\",0.0174532925199433],\n",
      "            ID[\"EPSG\",8811]],\n",
      "        PARAMETER[\"Longitude of projection centre\",7.43958333333333,\n",
      "            ANGLEUNIT[\"degree\",0.0174532925199433],\n",
      "            ID[\"EPSG\",8812]],\n",
      "        PARAMETER[\"Azimuth at projection centre\",90,\n",
      "            ANGLEUNIT[\"degree\",0.0174532925199433],\n",
      "            ID[\"EPSG\",8813]],\n",
      "        PARAMETER[\"Angle from Rectified to Skew Grid\",90,\n",
      "            ANGLEUNIT[\"degree\",0.0174532925199433],\n",
      "            ID[\"EPSG\",8814]],\n",
      "        PARAMETER[\"Scale factor at projection centre\",1,\n",
      "            SCALEUNIT[\"unity\",1],\n",
      "            ID[\"EPSG\",8815]],\n",
      "        PARAMETER[\"Easting at projection centre\",2600000,\n",
      "            LENGTHUNIT[\"metre\",1],\n",
      "            ID[\"EPSG\",8816]],\n",
      "        PARAMETER[\"Northing at projection centre\",1200000,\n",
      "            LENGTHUNIT[\"metre\",1],\n",
      "            ID[\"EPSG\",8817]]],\n",
      "    CS[Cartesian,2],\n",
      "        AXIS[\"(E)\",east,\n",
      "            ORDER[1],\n",
      "            LENGTHUNIT[\"metre\",1]],\n",
      "        AXIS[\"(N)\",north,\n",
      "            ORDER[2],\n",
      "            LENGTHUNIT[\"metre\",1]],\n",
      "    USAGE[\n",
      "        SCOPE[\"Cadastre, engineering survey, topographic mapping (large and medium scale).\"],\n",
      "        AREA[\"Liechtenstein; Switzerland.\"],\n",
      "        BBOX[45.82,5.96,47.81,10.49]],\n",
      "    ID[\"EPSG\",2056]]\n",
      "Data axis to CRS axis mapping: 1,2\n",
      "Origin = (2769000.000000000000000,1184000.000000000000000)\n",
      "Pixel Size = (0.500000000000000,-0.500000000000000)\n",
      "Metadata:\n",
      "  AREA_OR_POINT=Area\n",
      "Image Structure Metadata:\n",
      "  LAYOUT=COG\n",
      "  COMPRESSION=LZW\n",
      "  INTERLEAVE=BAND\n",
      "Corner Coordinates:\n",
      "Upper Left  ( 2769000.000, 1184000.000) (  9d39'12.25\"E, 46d47'13.19\"N)\n",
      "Lower Left  ( 2769000.000, 1183000.000) (  9d39'10.92\"E, 46d46'40.82\"N)\n",
      "Upper Right ( 2770000.000, 1184000.000) (  9d39'59.39\"E, 46d47'12.28\"N)\n",
      "Lower Right ( 2770000.000, 1183000.000) (  9d39'58.05\"E, 46d46'39.90\"N)\n",
      "Center      ( 2769500.000, 1183500.000) (  9d39'35.15\"E, 46d46'56.55\"N)\n",
      "Band 1 Block=128x128 Type=Float32, ColorInterp=Gray\n",
      "  Min=1828.815 Max=2172.177 \n",
      "  Minimum=1828.815, Maximum=2172.177, Mean=1995.082, StdDev=62.142\n",
      "  NoData Value=-9999\n",
      "  Overviews: 1000x1000, 500x500, 250x250\n",
      "  Unit Type: metre\n",
      "  Metadata:\n",
      "    STATISTICS_COVARIANCES=3861.67749753538\n",
      "    STATISTICS_EXCLUDEDVALUES=-9999\n",
      "    STATISTICS_MAXIMUM=2172.1772460938\n",
      "    STATISTICS_MEAN=1995.0816254996\n",
      "    STATISTICS_MINIMUM=1828.8149414063\n",
      "    STATISTICS_SKIPFACTORX=1\n",
      "    STATISTICS_SKIPFACTORY=1\n",
      "    STATISTICS_STDDEV=62.142396940699\n"
     ]
    }
   ],
   "source": [
    "!gdalinfo Uebung01/swissalti3d/swissalti3d_2023_2769-1183_0.5_2056_5728.tif"
   ]
  },
  {
   "cell_type": "markdown",
   "metadata": {
    "tags": []
   },
   "source": [
    "### a) Erstellen eines VRT\n",
    "\n",
    "Das GDAL Virtual Format (VRT) ist eine einfache Möglichkeit, einen neuen Datensatz aus Kacheln zu erstellen. Es handelt sich grundsätzlich um eine Textdatei (XML), aber die VRT-Datei kann so behandelt werden, als wäre sie eine einzelne Rasterdatei."
   ]
  },
  {
   "cell_type": "code",
   "execution_count": 9,
   "metadata": {},
   "outputs": [
    {
     "name": "stdout",
     "output_type": "stream",
     "text": [
      "0...10...20...30...40...50...60...70...80...90...100 - done.\n"
     ]
    }
   ],
   "source": [
    "!gdalbuildvrt Uebung01/swissalti3d/swissalti3d.vrt Uebung01/swissalti3d/swissalti3d_2023_2769-1184_0.5_2056_5728.tif Uebung01/swissalti3d/swissalti3d_2023_2769-1183_0.5_2056_5728.tif Uebung01/swissalti3d/swissalti3d_2023_2770-1184_0.5_2056_5728.tif Uebung01/swissalti3d/swissalti3d_2023_2770-1183_0.5_2056_5728.tif Uebung01/swissalti3d/swissalti3d_2023_2771-1184_0.5_2056_5728.tif Uebung01/swissalti3d/swissalti3d_2023_2771-1183_0.5_2056_5728.tif"
   ]
  },
  {
   "cell_type": "code",
   "execution_count": 10,
   "metadata": {},
   "outputs": [
    {
     "name": "stdout",
     "output_type": "stream",
     "text": [
      "Driver: VRT/Virtual Raster\n",
      "Files: Uebung01/swissalti3d/swissalti3d.vrt\n",
      "       Uebung01/swissalti3d\\swissalti3d_2023_2769-1184_0.5_2056_5728.tif\n",
      "       Uebung01/swissalti3d\\swissalti3d_2023_2769-1183_0.5_2056_5728.tif\n",
      "       Uebung01/swissalti3d\\swissalti3d_2023_2770-1184_0.5_2056_5728.tif\n",
      "       Uebung01/swissalti3d\\swissalti3d_2023_2770-1183_0.5_2056_5728.tif\n",
      "       Uebung01/swissalti3d\\swissalti3d_2023_2771-1184_0.5_2056_5728.tif\n",
      "       Uebung01/swissalti3d\\swissalti3d_2023_2771-1183_0.5_2056_5728.tif\n",
      "Size is 6000, 4000\n",
      "Coordinate System is:\n",
      "PROJCRS[\"CH1903+ / LV95\",\n",
      "    BASEGEOGCRS[\"CH1903+\",\n",
      "        DATUM[\"CH1903+\",\n",
      "            ELLIPSOID[\"Bessel 1841\",6377397.155,299.1528128,\n",
      "                LENGTHUNIT[\"metre\",1]]],\n",
      "        PRIMEM[\"Greenwich\",0,\n",
      "            ANGLEUNIT[\"degree\",0.0174532925199433]],\n",
      "        ID[\"EPSG\",4150]],\n",
      "    CONVERSION[\"unnamed\",\n",
      "        METHOD[\"Hotine Oblique Mercator (variant B)\",\n",
      "            ID[\"EPSG\",9815]],\n",
      "        PARAMETER[\"Latitude of projection centre\",46.9524055555556,\n",
      "            ANGLEUNIT[\"degree\",0.0174532925199433],\n",
      "            ID[\"EPSG\",8811]],\n",
      "        PARAMETER[\"Longitude of projection centre\",7.43958333333333,\n",
      "            ANGLEUNIT[\"degree\",0.0174532925199433],\n",
      "            ID[\"EPSG\",8812]],\n",
      "        PARAMETER[\"Azimuth at projection centre\",90,\n",
      "            ANGLEUNIT[\"degree\",0.0174532925199433],\n",
      "            ID[\"EPSG\",8813]],\n",
      "        PARAMETER[\"Angle from Rectified to Skew Grid\",90,\n",
      "            ANGLEUNIT[\"degree\",0.0174532925199433],\n",
      "            ID[\"EPSG\",8814]],\n",
      "        PARAMETER[\"Scale factor at projection centre\",1,\n",
      "            SCALEUNIT[\"unity\",1],\n",
      "            ID[\"EPSG\",8815]],\n",
      "        PARAMETER[\"Easting at projection centre\",2600000,\n",
      "            LENGTHUNIT[\"metre\",1],\n",
      "            ID[\"EPSG\",8816]],\n",
      "        PARAMETER[\"Northing at projection centre\",1200000,\n",
      "            LENGTHUNIT[\"metre\",1],\n",
      "            ID[\"EPSG\",8817]]],\n",
      "    CS[Cartesian,2],\n",
      "        AXIS[\"easting\",east,\n",
      "            ORDER[1],\n",
      "            LENGTHUNIT[\"metre\",1]],\n",
      "        AXIS[\"northing\",north,\n",
      "            ORDER[2],\n",
      "            LENGTHUNIT[\"metre\",1]],\n",
      "    ID[\"EPSG\",2056]]\n",
      "Data axis to CRS axis mapping: 1,2\n",
      "Origin = (2769000.000000000000000,1185000.000000000000000)\n",
      "Pixel Size = (0.500000000000000,-0.500000000000000)\n",
      "Corner Coordinates:\n",
      "Upper Left  ( 2769000.000, 1185000.000) (  9d39'13.59\"E, 46d47'45.57\"N)\n",
      "Lower Left  ( 2769000.000, 1183000.000) (  9d39'10.92\"E, 46d46'40.82\"N)\n",
      "Upper Right ( 2772000.000, 1185000.000) (  9d41'35.01\"E, 46d47'42.80\"N)\n",
      "Lower Right ( 2772000.000, 1183000.000) (  9d41'32.30\"E, 46d46'38.05\"N)\n",
      "Center      ( 2770500.000, 1184000.000) (  9d40'22.95\"E, 46d47'11.82\"N)\n",
      "Band 1 Block=128x128 Type=Float32, ColorInterp=Gray\n",
      "  Min=1605.363 Max=2447.786 \n",
      "  NoData Value=-9999\n",
      "  Overviews: 3000x2000, 1500x1000, 750x500\n"
     ]
    }
   ],
   "source": [
    "!gdalinfo Uebung01/swissalti3d/swissalti3d.vrt"
   ]
  },
  {
   "cell_type": "markdown",
   "metadata": {
    "tags": []
   },
   "source": [
    "### a) Overviews (Pyramidenstufen) hinzufügen\n",
    "\n",
    "Wenn Sie versuchen, diese Datei in QGIS zu öffnen, ist sie viel zu langsam und benötigt auch extrem viel Speicher.\n",
    "\n",
    "Wir müssen mehrere Auflösungen dieser Datei erstellen, die **Overlays** (auch **Pyramide** genannt) genannt werden.\n",
    "Dies kann mit dem Tool „gdaladdo“ erfolgen.\n",
    "\n",
    "Mit dem Parameter -r kann die Resampling-Methode angegeben werden. Es kann sein:\n",
    "\n",
    "nearest, average, rms, bilinear, gauss, cubic, cubicspline, lanczos, average_magphase, mode\n",
    "\n",
    "Nach dem Dateinamen müssen wir Ebenen als Zweierpotenz angeben, zum Beispiel 2 4 8 16 32\n",
    "\n",
    "Die Bearbeitung wird sehr lange dauern. Wenn Sie dies mit einem sehr grossen Datensatz (>1 TB) versuchen, kann es Tage bis hin zu Wochen dauern. Auch in diesem Fall empfiehlt es sich, den Speicher zu vergrößern und die Parallelverarbeitung zu ermöglichen. Dies kann mit diesem Konfigurationsflag erfolgen:\n",
    "\n",
    "\n",
    "`--config GDAL_NUM_THREADS ALL_CPUS` (oder ganzzahliger Wert, wenn Sie die Anzahl der CPUs angeben möchten)\n",
    "\n",
    "`--config GDAL_CACHEMAX 8000` (Cache in MB, je nach RAM so hoch wie möglich)       "
   ]
  },
  {
   "cell_type": "code",
   "execution_count": 11,
   "metadata": {},
   "outputs": [
    {
     "name": "stdout",
     "output_type": "stream",
     "text": [
      "0...10...20...30...40...50...60...70...80...90...100 - done.\n"
     ]
    }
   ],
   "source": [
    "!gdaladdo -r average Uebung01/swissalti3d/swissalti3d.vrt 2 4 8 16 32"
   ]
  },
  {
   "cell_type": "markdown",
   "metadata": {},
   "source": [
    "### b) Erstellte Datensätze im QGIS anschauen"
   ]
  },
  {
   "cell_type": "markdown",
   "metadata": {
    "tags": []
   },
   "source": [
    "### c) Geländeschummerung erstellen mit den gdal-utilities"
   ]
  },
  {
   "cell_type": "code",
   "execution_count": 14,
   "metadata": {},
   "outputs": [
    {
     "name": "stdout",
     "output_type": "stream",
     "text": [
      "0...10...20...30...40...50...60...70...80...90...100 - done.\n"
     ]
    }
   ],
   "source": [
    "!gdaldem hillshade Uebung01/swissalti3d/swissalti3d.vrt Uebung01/swissalti3d/hillshade.png"
   ]
  },
  {
   "cell_type": "code",
   "execution_count": 17,
   "metadata": {},
   "outputs": [],
   "source": [
    "# Create a color ramp file:\n",
    "#\n",
    "# Elevation RGB color\n",
    "\n",
    "color_text_file = \"\"\"0 110 110 110\n",
    "1600 120 120 120\n",
    "1800 140 140 140\n",
    "2000 160 160 160\n",
    "2200 180 180 180\n",
    "2400 200 200 200\n",
    "2600 220 220 220\n",
    "2800 230 230 230\n",
    "3000 250 250 250\"\"\"\n",
    "\n",
    "file = open(\"Uebung01/swissalti3d/color2.txt\", \"w\")\n",
    "file.write(color_text_file)\n",
    "file.close()"
   ]
  },
  {
   "cell_type": "code",
   "execution_count": 18,
   "metadata": {},
   "outputs": [
    {
     "name": "stdout",
     "output_type": "stream",
     "text": [
      "0...10...20...30...40...50...60...70...80...90...100 - done.\n"
     ]
    }
   ],
   "source": [
    "!gdaldem color-relief Uebung01/swissalti3d/swissalti3d.vrt Uebung01/swissalti3d/color2.txt Uebung01/swissalti3d/hillshade_color2.png"
   ]
  },
  {
   "cell_type": "markdown",
   "metadata": {},
   "source": [
    "### d) Vektorfile mit Höhenlinien mit den gdal-utilities erstellen"
   ]
  },
  {
   "cell_type": "code",
   "execution_count": 20,
   "metadata": {},
   "outputs": [
    {
     "name": "stdout",
     "output_type": "stream",
     "text": [
      "0...10...20...30...40...50...60...70...80...90...100 - done.\n"
     ]
    }
   ],
   "source": [
    "!gdal_contour -a elevation -i 250 Uebung01/swissalti3d/swissalti3d.vrt Uebung01/swissalti3d/hoehenlinien.shp"
   ]
  },
  {
   "cell_type": "markdown",
   "metadata": {},
   "source": [
    "### Aufgabe 2: Swissimage"
   ]
  },
  {
   "cell_type": "markdown",
   "metadata": {},
   "source": [
    "Direkte Download-Links sind:\n",
    "\n",
    "Swissimage Links:\n",
    "* https://data.geo.admin.ch/ch.swisstopo.swissimage-dop10/swissimage-dop10_2022_2769-1182/swissimage-dop10_2022_2769-1182_0.1_2056.tif\n",
    "* https://data.geo.admin.ch/ch.swisstopo.swissimage-dop10/swissimage-dop10_2022_2769-1183/swissimage-dop10_2022_2769-1183_0.1_2056.tif"
   ]
  },
  {
   "cell_type": "markdown",
   "metadata": {},
   "source": [
    "### a) Erstellen eines VRT und Overlays"
   ]
  },
  {
   "cell_type": "code",
   "execution_count": 21,
   "metadata": {},
   "outputs": [
    {
     "name": "stdout",
     "output_type": "stream",
     "text": [
      "Downloading Uebung01/swissimage/swissimage-dop10_2022_2769-1182_0.1_2056.tif from https://data.geo.admin.ch/ch.swisstopo.swissimage-dop10/swissimage-dop10_2022_2769-1182/swissimage-dop10_2022_2769-1182_0.1_2056.tif\n",
      "100% done \t[****************************************************************************************************]\n",
      "Downloading Uebung01/swissimage/swissimage-dop10_2022_2769-1183_0.1_2056.tif from https://data.geo.admin.ch/ch.swisstopo.swissimage-dop10/swissimage-dop10_2022_2769-1183/swissimage-dop10_2022_2769-1183_0.1_2056.tif\n",
      "100% done \t[****************************************************************************************************]\n"
     ]
    }
   ],
   "source": [
    "dest_dir = \"Uebung01/swissimage/\"\n",
    "\n",
    "if not os.path.exists(dest_dir):\n",
    "    os.mkdir(dest_dir)\n",
    "\n",
    "base = \"https://data.geo.admin.ch/ch.swisstopo.swissimage-dop10/swissimage-dop10_2022_2769-\"\n",
    "\n",
    "urls = [base + \"1182/swissimage-dop10_2022_2769-1182_0.1_2056.tif\", base + \"1183/swissimage-dop10_2022_2769-1183_0.1_2056.tif\"]\n",
    "\n",
    "for url in urls:\n",
    "    download(url, dest_dir + os.path.basename(url), False)"
   ]
  },
  {
   "cell_type": "code",
   "execution_count": 22,
   "metadata": {},
   "outputs": [
    {
     "name": "stdout",
     "output_type": "stream",
     "text": [
      "0...10...20...30...40...50...60...70...80...90...100 - done.\n"
     ]
    }
   ],
   "source": [
    "!gdalbuildvrt Uebung01/swissimage/swissimage.vrt Uebung01/swissimage/swissimage-dop10_2022_2769-1182_0.1_2056.tif Uebung01/swissimage/swissimage-dop10_2022_2769-1183_0.1_2056.tif"
   ]
  },
  {
   "cell_type": "code",
   "execution_count": 23,
   "metadata": {},
   "outputs": [
    {
     "name": "stdout",
     "output_type": "stream",
     "text": [
      "0...10...20...30...40...50...60...70...80...90...100 - done.\n"
     ]
    }
   ],
   "source": [
    "!gdaladdo -r average Uebung01/swissimage/swissimage.vrt 2 4 8 16 32"
   ]
  },
  {
   "cell_type": "markdown",
   "metadata": {},
   "source": [
    "### b) Konvertierung in ein einziges GeoTiff"
   ]
  },
  {
   "cell_type": "code",
   "execution_count": 24,
   "metadata": {},
   "outputs": [
    {
     "name": "stdout",
     "output_type": "stream",
     "text": [
      "Input file size is 10000, 20000\n",
      "0...10...20...30...40...50...60...70...80...90...100 - done.\n"
     ]
    }
   ],
   "source": [
    "!gdal_translate Uebung01/swissimage/swissimage.vrt Uebung01/swissimage/swissimage_merged.tif"
   ]
  }
 ],
 "metadata": {
  "kernelspec": {
   "display_name": "geopython310",
   "language": "python",
   "name": "python3"
  },
  "language_info": {
   "codemirror_mode": {
    "name": "ipython",
    "version": 3
   },
   "file_extension": ".py",
   "mimetype": "text/x-python",
   "name": "python",
   "nbconvert_exporter": "python",
   "pygments_lexer": "ipython3",
   "version": "3.10.16"
  }
 },
 "nbformat": 4,
 "nbformat_minor": 4
}
